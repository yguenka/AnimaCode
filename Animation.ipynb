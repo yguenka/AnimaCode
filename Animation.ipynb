{
 "cells": [
  {
   "cell_type": "code",
   "execution_count": 1,
   "metadata": {
    "ExecuteTime": {
     "end_time": "2021-04-14T20:13:26.591830Z",
     "start_time": "2021-04-14T20:12:29.598864Z"
    },
    "scrolled": false
   },
   "outputs": [
    {
     "name": "stdout",
     "output_type": "stream",
     "text": [
      "Enter the number of iterations (must be > 1): 20\n",
      "Fibonacci series for 20 elements :\n",
      "1\n",
      "1\n",
      "2\n",
      "3\n",
      "5\n",
      "8\n",
      "13\n",
      "21\n",
      "34\n",
      "55\n",
      "89\n",
      "144\n",
      "233\n",
      "377\n",
      "610\n",
      "987\n",
      "1597\n",
      "2584\n",
      "4181\n",
      "6765\n"
     ]
    }
   ],
   "source": [
    "import turtle\n",
    "import math\n",
    "t = turtle.Pen()\n",
    "turtle.bgcolor('black')\n",
    "def fiboPlot(n):\n",
    "    a = 0\n",
    "    b = 1\n",
    "    square_a = a\n",
    "    square_b = b\n",
    "  \n",
    "    # Setting the colour of the plotting pen to blue\n",
    "    x.pencolor(\"blue\")\n",
    "  \n",
    "    # Drawing the first square\n",
    "    x.forward(b * factor)\n",
    "    x.left(90)\n",
    "    x.forward(b * factor)\n",
    "    x.left(90)\n",
    "    x.forward(b * factor)\n",
    "    x.left(90)\n",
    "    x.forward(b * factor)\n",
    "  \n",
    "    # Proceeding in the Fibonacci Series\n",
    "    temp = square_b\n",
    "    square_b = square_b + square_a\n",
    "    square_a = temp\n",
    "      \n",
    "    # Drawing the rest of the squares\n",
    "    for i in range(1, n):\n",
    "        x.backward(square_a * factor)\n",
    "        x.right(90)\n",
    "        x.forward(square_b * factor)\n",
    "        x.left(90)\n",
    "        x.forward(square_b * factor)\n",
    "        x.left(90)\n",
    "        x.forward(square_b * factor)\n",
    "  \n",
    "        # Proceeding in the Fibonacci Series\n",
    "        temp = square_b\n",
    "        square_b = square_b + square_a\n",
    "        square_a = temp\n",
    "  \n",
    "    # Bringing the pen to starting point of the spiral plot\n",
    "    x.penup()\n",
    "    x.setposition(factor, 0)\n",
    "    x.seth(0)\n",
    "    x.pendown()\n",
    "  \n",
    "    # Setting the colour of the plotting pen to red\n",
    "    x.pencolor(\"red\")\n",
    "    \n",
    "    # Fibonacci Spiral Plot\n",
    "    x.left(90)\n",
    "    for i in range(n):\n",
    "        print(b)\n",
    "        fdwd = math.pi * b * factor / 2\n",
    "        fdwd /= 90\n",
    "        for j in range(90):\n",
    "            x.forward(fdwd)\n",
    "            x.left(1)\n",
    "        temp = a\n",
    "        a = b\n",
    "        b = temp + b\n",
    "  \n",
    "  \n",
    "# Here 'factor' signifies the multiplicative \n",
    "# factor which expands or shrinks the scale\n",
    "# of the plot by a certain factor.\n",
    "factor = 1\n",
    "  \n",
    "# Taking Input for the number of \n",
    "# Iterations our Algorithm will run\n",
    "n = int(input('Enter the number of iterations (must be > 1): '))\n",
    "  \n",
    "# Plotting the Fibonacci Spiral Fractal \n",
    "# and printing the corresponding Fibonacci Number\n",
    "if n > 0:\n",
    "    print(\"Fibonacci series for\", n, \"elements :\")\n",
    "    x = turtle.Turtle()\n",
    "    x.speed(100)\n",
    "    fiboPlot(n)\n",
    "    turtle.done()\n",
    "    \n",
    "else:\n",
    "    print(\"Number of iterations must be > 0\")"
   ]
  }
 ],
 "metadata": {
  "kernelspec": {
   "display_name": "Python 3",
   "language": "python",
   "name": "python3"
  },
  "language_info": {
   "codemirror_mode": {
    "name": "ipython",
    "version": 3
   },
   "file_extension": ".py",
   "mimetype": "text/x-python",
   "name": "python",
   "nbconvert_exporter": "python",
   "pygments_lexer": "ipython3",
   "version": "3.8.5"
  },
  "varInspector": {
   "cols": {
    "lenName": 16,
    "lenType": 16,
    "lenVar": 40
   },
   "kernels_config": {
    "python": {
     "delete_cmd_postfix": "",
     "delete_cmd_prefix": "del ",
     "library": "var_list.py",
     "varRefreshCmd": "print(var_dic_list())"
    },
    "r": {
     "delete_cmd_postfix": ") ",
     "delete_cmd_prefix": "rm(",
     "library": "var_list.r",
     "varRefreshCmd": "cat(var_dic_list()) "
    }
   },
   "types_to_exclude": [
    "module",
    "function",
    "builtin_function_or_method",
    "instance",
    "_Feature"
   ],
   "window_display": false
  }
 },
 "nbformat": 4,
 "nbformat_minor": 4
}
